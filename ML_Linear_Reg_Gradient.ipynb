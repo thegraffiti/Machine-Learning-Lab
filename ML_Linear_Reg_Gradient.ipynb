{
  "cells": [
    {
      "cell_type": "markdown",
      "metadata": {
        "colab_type": "text",
        "id": "view-in-github"
      },
      "source": [
        "<a href=\"https://colab.research.google.com/github/ojasrai17/ML_Lab_A1_10/blob/main/ML_Linear_Reg_Gradient.ipynb\" target=\"_parent\"><img src=\"https://colab.research.google.com/assets/colab-badge.svg\" alt=\"Open In Colab\"/></a>"
      ]
    },
    {
      "cell_type": "markdown",
      "metadata": {
        "id": "UsSNHGeSOoxV"
      },
      "source": [
        "# Machine Learning: Gradient Descent Algorithm\n",
        "### Name: Rishi Pande A-14"
      ]
    },
    {
      "cell_type": "markdown",
      "metadata": {
        "id": "AB8SZyNzOVk4"
      },
      "source": [
        "## Import Necessary Libraries"
      ]
    },
    {
      "cell_type": "code",
      "execution_count": null,
      "metadata": {
        "id": "aMbC0mCZ1oVu"
      },
      "outputs": [],
      "source": [
        "import numpy as np\n",
        "import pandas as pd\n",
        "import matplotlib.pyplot as plt\n",
        "from sklearn.model_selection import train_test_split"
      ]
    },
    {
      "cell_type": "code",
      "execution_count": null,
      "metadata": {
        "id": "r9IhOpxo2p47"
      },
      "outputs": [],
      "source": [
        "df = pd.read_csv('/content/drive/MyDrive/Colab Notebooks/Machine Learning/ex1data1.csv',names = ['Population','Profit'])"
      ]
    },
    {
      "cell_type": "code",
      "execution_count": null,
      "metadata": {
        "colab": {
          "base_uri": "https://localhost:8080/",
          "height": 206
        },
        "id": "XQhJMDe-dRk8",
        "outputId": "e34e948a-d84b-4e8f-bae6-4f6d447dae52"
      },
      "outputs": [
        {
          "data": {
            "application/vnd.google.colaboratory.intrinsic+json": {
              "summary": "{\n  \"name\": \"df\",\n  \"rows\": 97,\n  \"fields\": [\n    {\n      \"column\": \"Population\",\n      \"properties\": {\n        \"dtype\": \"number\",\n        \"std\": 3.869883527882332,\n        \"min\": 5.0269,\n        \"max\": 22.203,\n        \"num_unique_values\": 97,\n        \"samples\": [\n          21.279,\n          5.4069,\n          5.3054\n        ],\n        \"semantic_type\": \"\",\n        \"description\": \"\"\n      }\n    },\n    {\n      \"column\": \"Profit\",\n      \"properties\": {\n        \"dtype\": \"number\",\n        \"std\": 5.510262255231544,\n        \"min\": -2.6807,\n        \"max\": 24.147,\n        \"num_unique_values\": 97,\n        \"samples\": [\n          17.929,\n          0.55657,\n          1.9869\n        ],\n        \"semantic_type\": \"\",\n        \"description\": \"\"\n      }\n    }\n  ]\n}",
              "type": "dataframe",
              "variable_name": "df"
            },
            "text/html": [
              "\n",
              "  <div id=\"df-c5f182b6-575c-4c01-90bc-2c81bf346495\" class=\"colab-df-container\">\n",
              "    <div>\n",
              "<style scoped>\n",
              "    .dataframe tbody tr th:only-of-type {\n",
              "        vertical-align: middle;\n",
              "    }\n",
              "\n",
              "    .dataframe tbody tr th {\n",
              "        vertical-align: top;\n",
              "    }\n",
              "\n",
              "    .dataframe thead th {\n",
              "        text-align: right;\n",
              "    }\n",
              "</style>\n",
              "<table border=\"1\" class=\"dataframe\">\n",
              "  <thead>\n",
              "    <tr style=\"text-align: right;\">\n",
              "      <th></th>\n",
              "      <th>Population</th>\n",
              "      <th>Profit</th>\n",
              "    </tr>\n",
              "  </thead>\n",
              "  <tbody>\n",
              "    <tr>\n",
              "      <th>0</th>\n",
              "      <td>6.1101</td>\n",
              "      <td>17.5920</td>\n",
              "    </tr>\n",
              "    <tr>\n",
              "      <th>1</th>\n",
              "      <td>5.5277</td>\n",
              "      <td>9.1302</td>\n",
              "    </tr>\n",
              "    <tr>\n",
              "      <th>2</th>\n",
              "      <td>8.5186</td>\n",
              "      <td>13.6620</td>\n",
              "    </tr>\n",
              "    <tr>\n",
              "      <th>3</th>\n",
              "      <td>7.0032</td>\n",
              "      <td>11.8540</td>\n",
              "    </tr>\n",
              "    <tr>\n",
              "      <th>4</th>\n",
              "      <td>5.8598</td>\n",
              "      <td>6.8233</td>\n",
              "    </tr>\n",
              "  </tbody>\n",
              "</table>\n",
              "</div>\n",
              "    <div class=\"colab-df-buttons\">\n",
              "\n",
              "  <div class=\"colab-df-container\">\n",
              "    <button class=\"colab-df-convert\" onclick=\"convertToInteractive('df-c5f182b6-575c-4c01-90bc-2c81bf346495')\"\n",
              "            title=\"Convert this dataframe to an interactive table.\"\n",
              "            style=\"display:none;\">\n",
              "\n",
              "  <svg xmlns=\"http://www.w3.org/2000/svg\" height=\"24px\" viewBox=\"0 -960 960 960\">\n",
              "    <path d=\"M120-120v-720h720v720H120Zm60-500h600v-160H180v160Zm220 220h160v-160H400v160Zm0 220h160v-160H400v160ZM180-400h160v-160H180v160Zm440 0h160v-160H620v160ZM180-180h160v-160H180v160Zm440 0h160v-160H620v160Z\"/>\n",
              "  </svg>\n",
              "    </button>\n",
              "\n",
              "  <style>\n",
              "    .colab-df-container {\n",
              "      display:flex;\n",
              "      gap: 12px;\n",
              "    }\n",
              "\n",
              "    .colab-df-convert {\n",
              "      background-color: #E8F0FE;\n",
              "      border: none;\n",
              "      border-radius: 50%;\n",
              "      cursor: pointer;\n",
              "      display: none;\n",
              "      fill: #1967D2;\n",
              "      height: 32px;\n",
              "      padding: 0 0 0 0;\n",
              "      width: 32px;\n",
              "    }\n",
              "\n",
              "    .colab-df-convert:hover {\n",
              "      background-color: #E2EBFA;\n",
              "      box-shadow: 0px 1px 2px rgba(60, 64, 67, 0.3), 0px 1px 3px 1px rgba(60, 64, 67, 0.15);\n",
              "      fill: #174EA6;\n",
              "    }\n",
              "\n",
              "    .colab-df-buttons div {\n",
              "      margin-bottom: 4px;\n",
              "    }\n",
              "\n",
              "    [theme=dark] .colab-df-convert {\n",
              "      background-color: #3B4455;\n",
              "      fill: #D2E3FC;\n",
              "    }\n",
              "\n",
              "    [theme=dark] .colab-df-convert:hover {\n",
              "      background-color: #434B5C;\n",
              "      box-shadow: 0px 1px 3px 1px rgba(0, 0, 0, 0.15);\n",
              "      filter: drop-shadow(0px 1px 2px rgba(0, 0, 0, 0.3));\n",
              "      fill: #FFFFFF;\n",
              "    }\n",
              "  </style>\n",
              "\n",
              "    <script>\n",
              "      const buttonEl =\n",
              "        document.querySelector('#df-c5f182b6-575c-4c01-90bc-2c81bf346495 button.colab-df-convert');\n",
              "      buttonEl.style.display =\n",
              "        google.colab.kernel.accessAllowed ? 'block' : 'none';\n",
              "\n",
              "      async function convertToInteractive(key) {\n",
              "        const element = document.querySelector('#df-c5f182b6-575c-4c01-90bc-2c81bf346495');\n",
              "        const dataTable =\n",
              "          await google.colab.kernel.invokeFunction('convertToInteractive',\n",
              "                                                    [key], {});\n",
              "        if (!dataTable) return;\n",
              "\n",
              "        const docLinkHtml = 'Like what you see? Visit the ' +\n",
              "          '<a target=\"_blank\" href=https://colab.research.google.com/notebooks/data_table.ipynb>data table notebook</a>'\n",
              "          + ' to learn more about interactive tables.';\n",
              "        element.innerHTML = '';\n",
              "        dataTable['output_type'] = 'display_data';\n",
              "        await google.colab.output.renderOutput(dataTable, element);\n",
              "        const docLink = document.createElement('div');\n",
              "        docLink.innerHTML = docLinkHtml;\n",
              "        element.appendChild(docLink);\n",
              "      }\n",
              "    </script>\n",
              "  </div>\n",
              "\n",
              "\n",
              "<div id=\"df-b4d6da51-ffd9-48d9-a92a-a1e75fe7ed50\">\n",
              "  <button class=\"colab-df-quickchart\" onclick=\"quickchart('df-b4d6da51-ffd9-48d9-a92a-a1e75fe7ed50')\"\n",
              "            title=\"Suggest charts\"\n",
              "            style=\"display:none;\">\n",
              "\n",
              "<svg xmlns=\"http://www.w3.org/2000/svg\" height=\"24px\"viewBox=\"0 0 24 24\"\n",
              "     width=\"24px\">\n",
              "    <g>\n",
              "        <path d=\"M19 3H5c-1.1 0-2 .9-2 2v14c0 1.1.9 2 2 2h14c1.1 0 2-.9 2-2V5c0-1.1-.9-2-2-2zM9 17H7v-7h2v7zm4 0h-2V7h2v10zm4 0h-2v-4h2v4z\"/>\n",
              "    </g>\n",
              "</svg>\n",
              "  </button>\n",
              "\n",
              "<style>\n",
              "  .colab-df-quickchart {\n",
              "      --bg-color: #E8F0FE;\n",
              "      --fill-color: #1967D2;\n",
              "      --hover-bg-color: #E2EBFA;\n",
              "      --hover-fill-color: #174EA6;\n",
              "      --disabled-fill-color: #AAA;\n",
              "      --disabled-bg-color: #DDD;\n",
              "  }\n",
              "\n",
              "  [theme=dark] .colab-df-quickchart {\n",
              "      --bg-color: #3B4455;\n",
              "      --fill-color: #D2E3FC;\n",
              "      --hover-bg-color: #434B5C;\n",
              "      --hover-fill-color: #FFFFFF;\n",
              "      --disabled-bg-color: #3B4455;\n",
              "      --disabled-fill-color: #666;\n",
              "  }\n",
              "\n",
              "  .colab-df-quickchart {\n",
              "    background-color: var(--bg-color);\n",
              "    border: none;\n",
              "    border-radius: 50%;\n",
              "    cursor: pointer;\n",
              "    display: none;\n",
              "    fill: var(--fill-color);\n",
              "    height: 32px;\n",
              "    padding: 0;\n",
              "    width: 32px;\n",
              "  }\n",
              "\n",
              "  .colab-df-quickchart:hover {\n",
              "    background-color: var(--hover-bg-color);\n",
              "    box-shadow: 0 1px 2px rgba(60, 64, 67, 0.3), 0 1px 3px 1px rgba(60, 64, 67, 0.15);\n",
              "    fill: var(--button-hover-fill-color);\n",
              "  }\n",
              "\n",
              "  .colab-df-quickchart-complete:disabled,\n",
              "  .colab-df-quickchart-complete:disabled:hover {\n",
              "    background-color: var(--disabled-bg-color);\n",
              "    fill: var(--disabled-fill-color);\n",
              "    box-shadow: none;\n",
              "  }\n",
              "\n",
              "  .colab-df-spinner {\n",
              "    border: 2px solid var(--fill-color);\n",
              "    border-color: transparent;\n",
              "    border-bottom-color: var(--fill-color);\n",
              "    animation:\n",
              "      spin 1s steps(1) infinite;\n",
              "  }\n",
              "\n",
              "  @keyframes spin {\n",
              "    0% {\n",
              "      border-color: transparent;\n",
              "      border-bottom-color: var(--fill-color);\n",
              "      border-left-color: var(--fill-color);\n",
              "    }\n",
              "    20% {\n",
              "      border-color: transparent;\n",
              "      border-left-color: var(--fill-color);\n",
              "      border-top-color: var(--fill-color);\n",
              "    }\n",
              "    30% {\n",
              "      border-color: transparent;\n",
              "      border-left-color: var(--fill-color);\n",
              "      border-top-color: var(--fill-color);\n",
              "      border-right-color: var(--fill-color);\n",
              "    }\n",
              "    40% {\n",
              "      border-color: transparent;\n",
              "      border-right-color: var(--fill-color);\n",
              "      border-top-color: var(--fill-color);\n",
              "    }\n",
              "    60% {\n",
              "      border-color: transparent;\n",
              "      border-right-color: var(--fill-color);\n",
              "    }\n",
              "    80% {\n",
              "      border-color: transparent;\n",
              "      border-right-color: var(--fill-color);\n",
              "      border-bottom-color: var(--fill-color);\n",
              "    }\n",
              "    90% {\n",
              "      border-color: transparent;\n",
              "      border-bottom-color: var(--fill-color);\n",
              "    }\n",
              "  }\n",
              "</style>\n",
              "\n",
              "  <script>\n",
              "    async function quickchart(key) {\n",
              "      const quickchartButtonEl =\n",
              "        document.querySelector('#' + key + ' button');\n",
              "      quickchartButtonEl.disabled = true;  // To prevent multiple clicks.\n",
              "      quickchartButtonEl.classList.add('colab-df-spinner');\n",
              "      try {\n",
              "        const charts = await google.colab.kernel.invokeFunction(\n",
              "            'suggestCharts', [key], {});\n",
              "      } catch (error) {\n",
              "        console.error('Error during call to suggestCharts:', error);\n",
              "      }\n",
              "      quickchartButtonEl.classList.remove('colab-df-spinner');\n",
              "      quickchartButtonEl.classList.add('colab-df-quickchart-complete');\n",
              "    }\n",
              "    (() => {\n",
              "      let quickchartButtonEl =\n",
              "        document.querySelector('#df-b4d6da51-ffd9-48d9-a92a-a1e75fe7ed50 button');\n",
              "      quickchartButtonEl.style.display =\n",
              "        google.colab.kernel.accessAllowed ? 'block' : 'none';\n",
              "    })();\n",
              "  </script>\n",
              "</div>\n",
              "\n",
              "    </div>\n",
              "  </div>\n"
            ],
            "text/plain": [
              "   Population   Profit\n",
              "0      6.1101  17.5920\n",
              "1      5.5277   9.1302\n",
              "2      8.5186  13.6620\n",
              "3      7.0032  11.8540\n",
              "4      5.8598   6.8233"
            ]
          },
          "execution_count": 3,
          "metadata": {},
          "output_type": "execute_result"
        }
      ],
      "source": [
        "df.head()"
      ]
    },
    {
      "cell_type": "code",
      "execution_count": null,
      "metadata": {
        "colab": {
          "base_uri": "https://localhost:8080/",
          "height": 300
        },
        "id": "6ETTuA00dXGy",
        "outputId": "df766518-662a-488a-b347-1777b95b684c"
      },
      "outputs": [
        {
          "data": {
            "application/vnd.google.colaboratory.intrinsic+json": {
              "summary": "{\n  \"name\": \"df\",\n  \"rows\": 8,\n  \"fields\": [\n    {\n      \"column\": \"Population\",\n      \"properties\": {\n        \"dtype\": \"number\",\n        \"std\": 31.784914602764157,\n        \"min\": 3.869883527882332,\n        \"max\": 97.0,\n        \"num_unique_values\": 8,\n        \"samples\": [\n          8.159799999999999,\n          6.5894,\n          97.0\n        ],\n        \"semantic_type\": \"\",\n        \"description\": \"\"\n      }\n    },\n    {\n      \"column\": \"Profit\",\n      \"properties\": {\n        \"dtype\": \"number\",\n        \"std\": 32.87917231164401,\n        \"min\": -2.6807,\n        \"max\": 97.0,\n        \"num_unique_values\": 8,\n        \"samples\": [\n          5.839135051546393,\n          4.5623,\n          97.0\n        ],\n        \"semantic_type\": \"\",\n        \"description\": \"\"\n      }\n    }\n  ]\n}",
              "type": "dataframe"
            },
            "text/html": [
              "\n",
              "  <div id=\"df-446a2a96-7e45-4e45-bee9-4a1c3990ebb1\" class=\"colab-df-container\">\n",
              "    <div>\n",
              "<style scoped>\n",
              "    .dataframe tbody tr th:only-of-type {\n",
              "        vertical-align: middle;\n",
              "    }\n",
              "\n",
              "    .dataframe tbody tr th {\n",
              "        vertical-align: top;\n",
              "    }\n",
              "\n",
              "    .dataframe thead th {\n",
              "        text-align: right;\n",
              "    }\n",
              "</style>\n",
              "<table border=\"1\" class=\"dataframe\">\n",
              "  <thead>\n",
              "    <tr style=\"text-align: right;\">\n",
              "      <th></th>\n",
              "      <th>Population</th>\n",
              "      <th>Profit</th>\n",
              "    </tr>\n",
              "  </thead>\n",
              "  <tbody>\n",
              "    <tr>\n",
              "      <th>count</th>\n",
              "      <td>97.000000</td>\n",
              "      <td>97.000000</td>\n",
              "    </tr>\n",
              "    <tr>\n",
              "      <th>mean</th>\n",
              "      <td>8.159800</td>\n",
              "      <td>5.839135</td>\n",
              "    </tr>\n",
              "    <tr>\n",
              "      <th>std</th>\n",
              "      <td>3.869884</td>\n",
              "      <td>5.510262</td>\n",
              "    </tr>\n",
              "    <tr>\n",
              "      <th>min</th>\n",
              "      <td>5.026900</td>\n",
              "      <td>-2.680700</td>\n",
              "    </tr>\n",
              "    <tr>\n",
              "      <th>25%</th>\n",
              "      <td>5.707700</td>\n",
              "      <td>1.986900</td>\n",
              "    </tr>\n",
              "    <tr>\n",
              "      <th>50%</th>\n",
              "      <td>6.589400</td>\n",
              "      <td>4.562300</td>\n",
              "    </tr>\n",
              "    <tr>\n",
              "      <th>75%</th>\n",
              "      <td>8.578100</td>\n",
              "      <td>7.046700</td>\n",
              "    </tr>\n",
              "    <tr>\n",
              "      <th>max</th>\n",
              "      <td>22.203000</td>\n",
              "      <td>24.147000</td>\n",
              "    </tr>\n",
              "  </tbody>\n",
              "</table>\n",
              "</div>\n",
              "    <div class=\"colab-df-buttons\">\n",
              "\n",
              "  <div class=\"colab-df-container\">\n",
              "    <button class=\"colab-df-convert\" onclick=\"convertToInteractive('df-446a2a96-7e45-4e45-bee9-4a1c3990ebb1')\"\n",
              "            title=\"Convert this dataframe to an interactive table.\"\n",
              "            style=\"display:none;\">\n",
              "\n",
              "  <svg xmlns=\"http://www.w3.org/2000/svg\" height=\"24px\" viewBox=\"0 -960 960 960\">\n",
              "    <path d=\"M120-120v-720h720v720H120Zm60-500h600v-160H180v160Zm220 220h160v-160H400v160Zm0 220h160v-160H400v160ZM180-400h160v-160H180v160Zm440 0h160v-160H620v160ZM180-180h160v-160H180v160Zm440 0h160v-160H620v160Z\"/>\n",
              "  </svg>\n",
              "    </button>\n",
              "\n",
              "  <style>\n",
              "    .colab-df-container {\n",
              "      display:flex;\n",
              "      gap: 12px;\n",
              "    }\n",
              "\n",
              "    .colab-df-convert {\n",
              "      background-color: #E8F0FE;\n",
              "      border: none;\n",
              "      border-radius: 50%;\n",
              "      cursor: pointer;\n",
              "      display: none;\n",
              "      fill: #1967D2;\n",
              "      height: 32px;\n",
              "      padding: 0 0 0 0;\n",
              "      width: 32px;\n",
              "    }\n",
              "\n",
              "    .colab-df-convert:hover {\n",
              "      background-color: #E2EBFA;\n",
              "      box-shadow: 0px 1px 2px rgba(60, 64, 67, 0.3), 0px 1px 3px 1px rgba(60, 64, 67, 0.15);\n",
              "      fill: #174EA6;\n",
              "    }\n",
              "\n",
              "    .colab-df-buttons div {\n",
              "      margin-bottom: 4px;\n",
              "    }\n",
              "\n",
              "    [theme=dark] .colab-df-convert {\n",
              "      background-color: #3B4455;\n",
              "      fill: #D2E3FC;\n",
              "    }\n",
              "\n",
              "    [theme=dark] .colab-df-convert:hover {\n",
              "      background-color: #434B5C;\n",
              "      box-shadow: 0px 1px 3px 1px rgba(0, 0, 0, 0.15);\n",
              "      filter: drop-shadow(0px 1px 2px rgba(0, 0, 0, 0.3));\n",
              "      fill: #FFFFFF;\n",
              "    }\n",
              "  </style>\n",
              "\n",
              "    <script>\n",
              "      const buttonEl =\n",
              "        document.querySelector('#df-446a2a96-7e45-4e45-bee9-4a1c3990ebb1 button.colab-df-convert');\n",
              "      buttonEl.style.display =\n",
              "        google.colab.kernel.accessAllowed ? 'block' : 'none';\n",
              "\n",
              "      async function convertToInteractive(key) {\n",
              "        const element = document.querySelector('#df-446a2a96-7e45-4e45-bee9-4a1c3990ebb1');\n",
              "        const dataTable =\n",
              "          await google.colab.kernel.invokeFunction('convertToInteractive',\n",
              "                                                    [key], {});\n",
              "        if (!dataTable) return;\n",
              "\n",
              "        const docLinkHtml = 'Like what you see? Visit the ' +\n",
              "          '<a target=\"_blank\" href=https://colab.research.google.com/notebooks/data_table.ipynb>data table notebook</a>'\n",
              "          + ' to learn more about interactive tables.';\n",
              "        element.innerHTML = '';\n",
              "        dataTable['output_type'] = 'display_data';\n",
              "        await google.colab.output.renderOutput(dataTable, element);\n",
              "        const docLink = document.createElement('div');\n",
              "        docLink.innerHTML = docLinkHtml;\n",
              "        element.appendChild(docLink);\n",
              "      }\n",
              "    </script>\n",
              "  </div>\n",
              "\n",
              "\n",
              "<div id=\"df-3a289941-355d-488c-8f60-d6363aa163b8\">\n",
              "  <button class=\"colab-df-quickchart\" onclick=\"quickchart('df-3a289941-355d-488c-8f60-d6363aa163b8')\"\n",
              "            title=\"Suggest charts\"\n",
              "            style=\"display:none;\">\n",
              "\n",
              "<svg xmlns=\"http://www.w3.org/2000/svg\" height=\"24px\"viewBox=\"0 0 24 24\"\n",
              "     width=\"24px\">\n",
              "    <g>\n",
              "        <path d=\"M19 3H5c-1.1 0-2 .9-2 2v14c0 1.1.9 2 2 2h14c1.1 0 2-.9 2-2V5c0-1.1-.9-2-2-2zM9 17H7v-7h2v7zm4 0h-2V7h2v10zm4 0h-2v-4h2v4z\"/>\n",
              "    </g>\n",
              "</svg>\n",
              "  </button>\n",
              "\n",
              "<style>\n",
              "  .colab-df-quickchart {\n",
              "      --bg-color: #E8F0FE;\n",
              "      --fill-color: #1967D2;\n",
              "      --hover-bg-color: #E2EBFA;\n",
              "      --hover-fill-color: #174EA6;\n",
              "      --disabled-fill-color: #AAA;\n",
              "      --disabled-bg-color: #DDD;\n",
              "  }\n",
              "\n",
              "  [theme=dark] .colab-df-quickchart {\n",
              "      --bg-color: #3B4455;\n",
              "      --fill-color: #D2E3FC;\n",
              "      --hover-bg-color: #434B5C;\n",
              "      --hover-fill-color: #FFFFFF;\n",
              "      --disabled-bg-color: #3B4455;\n",
              "      --disabled-fill-color: #666;\n",
              "  }\n",
              "\n",
              "  .colab-df-quickchart {\n",
              "    background-color: var(--bg-color);\n",
              "    border: none;\n",
              "    border-radius: 50%;\n",
              "    cursor: pointer;\n",
              "    display: none;\n",
              "    fill: var(--fill-color);\n",
              "    height: 32px;\n",
              "    padding: 0;\n",
              "    width: 32px;\n",
              "  }\n",
              "\n",
              "  .colab-df-quickchart:hover {\n",
              "    background-color: var(--hover-bg-color);\n",
              "    box-shadow: 0 1px 2px rgba(60, 64, 67, 0.3), 0 1px 3px 1px rgba(60, 64, 67, 0.15);\n",
              "    fill: var(--button-hover-fill-color);\n",
              "  }\n",
              "\n",
              "  .colab-df-quickchart-complete:disabled,\n",
              "  .colab-df-quickchart-complete:disabled:hover {\n",
              "    background-color: var(--disabled-bg-color);\n",
              "    fill: var(--disabled-fill-color);\n",
              "    box-shadow: none;\n",
              "  }\n",
              "\n",
              "  .colab-df-spinner {\n",
              "    border: 2px solid var(--fill-color);\n",
              "    border-color: transparent;\n",
              "    border-bottom-color: var(--fill-color);\n",
              "    animation:\n",
              "      spin 1s steps(1) infinite;\n",
              "  }\n",
              "\n",
              "  @keyframes spin {\n",
              "    0% {\n",
              "      border-color: transparent;\n",
              "      border-bottom-color: var(--fill-color);\n",
              "      border-left-color: var(--fill-color);\n",
              "    }\n",
              "    20% {\n",
              "      border-color: transparent;\n",
              "      border-left-color: var(--fill-color);\n",
              "      border-top-color: var(--fill-color);\n",
              "    }\n",
              "    30% {\n",
              "      border-color: transparent;\n",
              "      border-left-color: var(--fill-color);\n",
              "      border-top-color: var(--fill-color);\n",
              "      border-right-color: var(--fill-color);\n",
              "    }\n",
              "    40% {\n",
              "      border-color: transparent;\n",
              "      border-right-color: var(--fill-color);\n",
              "      border-top-color: var(--fill-color);\n",
              "    }\n",
              "    60% {\n",
              "      border-color: transparent;\n",
              "      border-right-color: var(--fill-color);\n",
              "    }\n",
              "    80% {\n",
              "      border-color: transparent;\n",
              "      border-right-color: var(--fill-color);\n",
              "      border-bottom-color: var(--fill-color);\n",
              "    }\n",
              "    90% {\n",
              "      border-color: transparent;\n",
              "      border-bottom-color: var(--fill-color);\n",
              "    }\n",
              "  }\n",
              "</style>\n",
              "\n",
              "  <script>\n",
              "    async function quickchart(key) {\n",
              "      const quickchartButtonEl =\n",
              "        document.querySelector('#' + key + ' button');\n",
              "      quickchartButtonEl.disabled = true;  // To prevent multiple clicks.\n",
              "      quickchartButtonEl.classList.add('colab-df-spinner');\n",
              "      try {\n",
              "        const charts = await google.colab.kernel.invokeFunction(\n",
              "            'suggestCharts', [key], {});\n",
              "      } catch (error) {\n",
              "        console.error('Error during call to suggestCharts:', error);\n",
              "      }\n",
              "      quickchartButtonEl.classList.remove('colab-df-spinner');\n",
              "      quickchartButtonEl.classList.add('colab-df-quickchart-complete');\n",
              "    }\n",
              "    (() => {\n",
              "      let quickchartButtonEl =\n",
              "        document.querySelector('#df-3a289941-355d-488c-8f60-d6363aa163b8 button');\n",
              "      quickchartButtonEl.style.display =\n",
              "        google.colab.kernel.accessAllowed ? 'block' : 'none';\n",
              "    })();\n",
              "  </script>\n",
              "</div>\n",
              "\n",
              "    </div>\n",
              "  </div>\n"
            ],
            "text/plain": [
              "       Population     Profit\n",
              "count   97.000000  97.000000\n",
              "mean     8.159800   5.839135\n",
              "std      3.869884   5.510262\n",
              "min      5.026900  -2.680700\n",
              "25%      5.707700   1.986900\n",
              "50%      6.589400   4.562300\n",
              "75%      8.578100   7.046700\n",
              "max     22.203000  24.147000"
            ]
          },
          "execution_count": 4,
          "metadata": {},
          "output_type": "execute_result"
        }
      ],
      "source": [
        "df.describe()"
      ]
    },
    {
      "cell_type": "code",
      "execution_count": null,
      "metadata": {
        "colab": {
          "base_uri": "https://localhost:8080/"
        },
        "id": "EKVO1bSVdZ7o",
        "outputId": "2e86bad8-d69b-4646-be65-b81771948b2c"
      },
      "outputs": [
        {
          "name": "stdout",
          "output_type": "stream",
          "text": [
            "<class 'pandas.core.frame.DataFrame'>\n",
            "RangeIndex: 97 entries, 0 to 96\n",
            "Data columns (total 2 columns):\n",
            " #   Column      Non-Null Count  Dtype  \n",
            "---  ------      --------------  -----  \n",
            " 0   Population  97 non-null     float64\n",
            " 1   Profit      97 non-null     float64\n",
            "dtypes: float64(2)\n",
            "memory usage: 1.6 KB\n"
          ]
        }
      ],
      "source": [
        "df.info()"
      ]
    },
    {
      "cell_type": "code",
      "execution_count": null,
      "metadata": {
        "id": "R9CDfbGSfGzX"
      },
      "outputs": [],
      "source": [
        "x = np.array(df['Population'])\n",
        "y = np.array(df['Profit'])"
      ]
    },
    {
      "cell_type": "code",
      "execution_count": null,
      "metadata": {
        "id": "3S_hNqfFdfUc"
      },
      "outputs": [],
      "source": [
        "x_train,x_test,y_train,y_test = train_test_split(x, y, test_size = 0.2)"
      ]
    },
    {
      "cell_type": "code",
      "execution_count": null,
      "metadata": {
        "colab": {
          "base_uri": "https://localhost:8080/"
        },
        "id": "PUcpVkMr44aJ",
        "outputId": "8439f389-987e-43a9-8b2e-374dc71eb633"
      },
      "outputs": [
        {
          "name": "stdout",
          "output_type": "stream",
          "text": [
            "x_train has 77 elements\n"
          ]
        }
      ],
      "source": [
        "print(f\"x_train has {x_train.shape[0]} elements\")"
      ]
    },
    {
      "cell_type": "code",
      "execution_count": null,
      "metadata": {
        "colab": {
          "base_uri": "https://localhost:8080/",
          "height": 472
        },
        "id": "vtuc0mRx5LqQ",
        "outputId": "6c910a01-8732-4b1f-af01-ac0343ea3e90"
      },
      "outputs": [
        {
          "data": {
            "image/png": "[encoded data removed]",
            "text/plain": [
              "<Figure size 640x480 with 1 Axes>"
            ]
          },
          "metadata": {},
          "output_type": "display_data"
        }
      ],
      "source": [
        "plt.scatter(x, y, c='r', marker='x')\n",
        "plt.xlabel('x(i)')\n",
        "plt.ylabel('y(i) [in thousands]')\n",
        "plt.title('Scatter plot for Sales in months')\n",
        "plt.show()"
      ]
    },
    {
      "cell_type": "markdown",
      "metadata": {
        "id": "oSoI5VAN6SQL"
      },
      "source": [
        "### 1. Define the model [ f(w,b) ]\n"
      ]
    },
    {
      "cell_type": "code",
      "execution_count": null,
      "metadata": {
        "id": "MWLSsuKS58EQ"
      },
      "outputs": [],
      "source": [
        "def compute_model_output(x, w, b):\n",
        "    return w * x + b"
      ]
    },
    {
      "cell_type": "markdown",
      "metadata": {
        "id": "dECzi7a-bGuV"
      },
      "source": [
        "### 2. Define cost function [ J(w,b) ]"
      ]
    },
    {
      "cell_type": "code",
      "execution_count": null,
      "metadata": {
        "id": "sbsboJsu7QIm"
      },
      "outputs": [],
      "source": [
        "def cost_function(y_cap,y_train):\n",
        "  m = y_train.shape[0]\n",
        "  error_sq = (y_cap - y_train)**2\n",
        "  J_wb = np.mean(error_sq)/(2*m)\n",
        "  return J_wb"
      ]
    },
    {
      "cell_type": "markdown",
      "metadata": {
        "id": "xruvjFSxbKaw"
      },
      "source": [
        "### 3. Define value updation [ i.e. compute gradient and update the w,b ]\n"
      ]
    },
    {
      "cell_type": "code",
      "execution_count": null,
      "metadata": {
        "id": "7nZhmwknCzts"
      },
      "outputs": [],
      "source": [
        "def value_update(learn_rate, y_cap, y_train, w, b, x0_train, x_train):\n",
        "    error = y_cap - y_train\n",
        "    m = x_train.shape[0]\n",
        "\n",
        "    # Update bias (b)\n",
        "    b_update = b - (learn_rate * np.dot(error, x0_train)) / m\n",
        "\n",
        "    # Update weight (w)\n",
        "    w_update = w - (learn_rate * np.dot(error, x_train)) / m\n",
        "\n",
        "    return b_update, w_update"
      ]
    },
    {
      "cell_type": "markdown",
      "metadata": {
        "id": "-g4iKiGhbNkl"
      },
      "source": [
        "### 4. Define gradient descent alogrithm"
      ]
    },
    {
      "cell_type": "code",
      "execution_count": null,
      "metadata": {
        "id": "UdWrup_R9qip"
      },
      "outputs": [],
      "source": [
        "def gradient_descent(learn_rate, w, b, x_train, y_train, max_itr):\n",
        "    m = x_train.shape[0]\n",
        "    x0_train = np.ones(m)  # Bias term\n",
        "\n",
        "    # Initial calculation\n",
        "    y_cap = compute_model_output(x_train, w, b)\n",
        "    J_wb = cost_function(y_cap, y_train)\n",
        "\n",
        "    # Print initial state\n",
        "    print(f\"Initial state: w = {w}, b = {b}, J_wb = {J_wb}\")\n",
        "\n",
        "    for i in range(max_itr):\n",
        "        # Update parameters\n",
        "        b_new, w_new = value_update(learn_rate, y_cap, y_train, w, b, x0_train, x_train)\n",
        "\n",
        "        # Recompute predictions and cost function\n",
        "        y_cap = compute_model_output(x_train, w_new, b_new)\n",
        "        J_wb_previous = J_wb\n",
        "        J_wb = cost_function(y_cap, y_train)\n",
        "\n",
        "        # Print the current state for debugging\n",
        "        print(f\"Iteration {i + 1}: w = {w_new}, b = {b_new}, J_wb = {J_wb}\")\n",
        "\n",
        "        # Check if cost increased (early stopping)\n",
        "        if J_wb > J_wb_previous:\n",
        "            print(\"Cost increased; stopping early.\")\n",
        "            return w, b, J_wb_previous, y_cap\n",
        "\n",
        "        # Update w and b for next iteration\n",
        "        w = w_new\n",
        "        b = b_new\n",
        "\n",
        "    return w, b, J_wb, y_cap\n"
      ]
    },
    {
      "cell_type": "markdown",
      "metadata": {
        "id": "XGmz3zCSP50g"
      },
      "source": [
        "#### test functions"
      ]
    },
    {
      "cell_type": "code",
      "execution_count": null,
      "metadata": {
        "colab": {
          "base_uri": "https://localhost:8080/"
        },
        "id": "BJC1K3ad6-05",
        "outputId": "30be66da-f60a-41bc-a7a4-84cba15c5f86"
      },
      "outputs": [
        {
          "data": {
            "text/plain": [
              "array([5.84, 5.84, 5.84, 5.84, 5.84, 5.84, 5.84, 5.84, 5.84, 5.84, 5.84,\n",
              "       5.84, 5.84, 5.84, 5.84, 5.84, 5.84, 5.84, 5.84, 5.84, 5.84, 5.84,\n",
              "       5.84, 5.84, 5.84, 5.84, 5.84, 5.84, 5.84, 5.84, 5.84, 5.84, 5.84,\n",
              "       5.84, 5.84, 5.84, 5.84, 5.84, 5.84, 5.84, 5.84, 5.84, 5.84, 5.84,\n",
              "       5.84, 5.84, 5.84, 5.84, 5.84, 5.84, 5.84, 5.84, 5.84, 5.84, 5.84,\n",
              "       5.84, 5.84, 5.84, 5.84, 5.84, 5.84, 5.84, 5.84, 5.84, 5.84, 5.84,\n",
              "       5.84, 5.84, 5.84, 5.84, 5.84, 5.84, 5.84, 5.84, 5.84, 5.84, 5.84])"
            ]
          },
          "execution_count": 14,
          "metadata": {},
          "output_type": "execute_result"
        }
      ],
      "source": [
        "w,b=0,5.84;\n",
        "tmp_f_wb = compute_model_output(x_train,w,b)\n",
        "tmp_f_wb"
      ]
    },
    {
      "cell_type": "code",
      "execution_count": null,
      "metadata": {
        "colab": {
          "base_uri": "https://localhost:8080/"
        },
        "id": "3hEgktBZ9cqF",
        "outputId": "55261079-4c79-490f-cf56-4162d8e6d473"
      },
      "outputs": [
        {
          "data": {
            "text/plain": [
              "0.17943611499252826"
            ]
          },
          "execution_count": 15,
          "metadata": {},
          "output_type": "execute_result"
        }
      ],
      "source": [
        "tmp_J_wb = cost_function(tmp_f_wb,y_train)\n",
        "tmp_J_wb"
      ]
    },
    {
      "cell_type": "markdown",
      "metadata": {
        "id": "UbbHJ0msQA84"
      },
      "source": [
        "#### Define parameter values and perform GDA"
      ]
    },
    {
      "cell_type": "code",
      "execution_count": null,
      "metadata": {
        "id": "_wkzKiwCGzPf"
      },
      "outputs": [],
      "source": [
        "learning_rate = 0.01\n",
        "max_itr = 100\n",
        "x0_train = np.ones(x_train.shape[0])"
      ]
    },
    {
      "cell_type": "code",
      "execution_count": null,
      "metadata": {
        "colab": {
          "base_uri": "https://localhost:8080/"
        },
        "id": "Wb3JqaNSIU1_",
        "outputId": "04315046-b49b-4bcc-85c8-341914af87d8"
      },
      "outputs": [
        {
          "name": "stdout",
          "output_type": "stream",
          "text": [
            "Initial state: w = 0, b = 5.84, J_wb = 0.17943611499252826\n",
            "Iteration 1: w = 0.1379043676809091, b = 5.837963748051948, J_wb = 0.16441040687562208\n",
            "Iteration 2: w = 0.16756968440341108, b = 5.82477637802964, J_wb = 0.1634508332894377\n",
            "Iteration 3: w = 0.17498395309970066, b = 5.8093177271472936, J_wb = 0.1630866446657435\n",
            "Iteration 4: w = 0.177822294168287, b = 5.793413041051266, J_wb = 0.16274866934371102\n",
            "Iteration 5: w = 0.1797178902689598, b = 5.777437470939466, J_wb = 0.16241285514204853\n",
            "Iteration 6: w = 0.18141755755995487, b = 5.7614680963812095, J_wb = 0.16207818236342844\n",
            "Iteration 7: w = 0.18307481006412737, b = 5.745520727397548, J_wb = 0.16174460449384065\n",
            "Iteration 8: w = 0.18472120659289737, b = 5.729598579907796, J_wb = 0.16141211614956855\n",
            "Iteration 9: w = 0.18636323765706117, b = 5.7137022811275955, J_wb = 0.16108071369590304\n",
            "Iteration 10: w = 0.18800224089004589, b = 5.697831926211321, J_wb = 0.16075039358316248\n",
            "Iteration 11: w = 0.1896384947286843, b = 5.681987501001594, J_wb = 0.16042115227634907\n",
            "Iteration 12: w = 0.19127205988277426, b = 5.666168968926751, J_wb = 0.16009298625214086\n",
            "Iteration 13: w = 0.19290295230192417, b = 5.65037628886281, J_wb = 0.15976589199872823\n",
            "Iteration 14: w = 0.1945311787294665, b = 5.634609418804969, J_wb = 0.15943986601577131\n",
            "Iteration 15: w = 0.19615674401069053, b = 5.618868316622203, J_wb = 0.15911490481436205\n",
            "Iteration 16: w = 0.19777965259508357, b = 5.603152940212288, J_wb = 0.15879100491698692\n",
            "Iteration 17: w = 0.19939990884513012, b = 5.587463247533574, J_wb = 0.15846816285749002\n",
            "Iteration 18: w = 0.20101751709979612, b = 5.571799196611424, J_wb = 0.1581463751810353\n",
            "Iteration 19: w = 0.20263248168758763, b = 5.556160745539458, J_wb = 0.15782563844407027\n",
            "Iteration 20: w = 0.204244806929244, b = 5.540547852479707, J_wb = 0.1575059492142888\n",
            "Iteration 21: w = 0.20585449713830095, b = 5.524960475662567, J_wb = 0.1571873040705945\n",
            "Iteration 22: w = 0.20746155662121527, b = 5.509398573386693, J_wb = 0.15686969960306404\n",
            "Iteration 23: w = 0.20906598967739976, b = 5.493862104018893, J_wb = 0.15655313241291066\n",
            "Iteration 24: w = 0.21066780059923926, b = 5.478351025994018, J_wb = 0.15623759911244797\n",
            "Iteration 25: w = 0.2122669936721033, b = 5.4628652978148455, J_wb = 0.15592309632505355\n",
            "Iteration 26: w = 0.2138635731743579, b = 5.447404878051976, J_wb = 0.1556096206851326\n",
            "Iteration 27: w = 0.21545754337737674, b = 5.4319697253437145, J_wb = 0.15529716883808242\n",
            "Iteration 28: w = 0.21704890854555292, b = 5.416559798395967, J_wb = 0.15498573744025612\n",
            "Iteration 29: w = 0.21863767293631015, b = 5.401175055982124, J_wb = 0.15467532315892696\n",
            "Iteration 30: w = 0.2202238408001142, b = 5.3858154569429555, J_wb = 0.15436592267225271\n",
            "Iteration 31: w = 0.22180741638048426, b = 5.370480960186496, J_wb = 0.1540575326692401\n",
            "Iteration 32: w = 0.22338840391400436, b = 5.355171524687939, J_wb = 0.1537501498497094\n",
            "Iteration 33: w = 0.2249668076303346, b = 5.339887109489522, J_wb = 0.15344377092425893\n",
            "Iteration 34: w = 0.22654263175222258, b = 5.324627673700424, J_wb = 0.1531383926142301\n",
            "Iteration 35: w = 0.22811588049551462, b = 5.309393176496648, J_wb = 0.15283401165167232\n",
            "Iteration 36: w = 0.22968655806916702, b = 5.29418357712092, J_wb = 0.15253062477930768\n",
            "Iteration 37: w = 0.23125466867525735, b = 5.2789988348825725, J_wb = 0.1522282287504966\n",
            "Iteration 38: w = 0.2328202165089958, b = 5.26383890915744, J_wb = 0.15192682032920268\n",
            "Iteration 39: w = 0.23438320575873622, b = 5.24870375938775, J_wb = 0.15162639628995836\n",
            "Iteration 40: w = 0.2359436406059874, b = 5.233593345082013, J_wb = 0.15132695341783006\n",
            "Iteration 41: w = 0.23750152522542442, b = 5.218507625814915, J_wb = 0.15102848850838413\n",
            "Iteration 42: w = 0.2390568637848994, b = 5.203446561227211, J_wb = 0.1507309983676524\n",
            "Iteration 43: w = 0.24060966044545312, b = 5.188410111025613, J_wb = 0.15043447981209804\n",
            "Iteration 44: w = 0.24215991936132583, b = 5.1733982349826855, J_wb = 0.15013892966858133\n",
            "Iteration 45: w = 0.2437076446799686, b = 5.158410892936737, J_wb = 0.1498443447743259\n",
            "Iteration 46: w = 0.24525284054205423, b = 5.143448044791713, J_wb = 0.14955072197688496\n",
            "Iteration 47: w = 0.24679551108148834, b = 5.128509650517087, J_wb = 0.14925805813410722\n",
            "Iteration 48: w = 0.2483356604254206, b = 5.113595670147755, J_wb = 0.14896635011410353\n",
            "Iteration 49: w = 0.24987329269425557, b = 5.09870606378393, J_wb = 0.14867559479521342\n",
            "Iteration 50: w = 0.25140841200166375, b = 5.083840791591031, J_wb = 0.14838578906597147\n",
            "Iteration 51: w = 0.2529410224545928, b = 5.06899981379958, J_wb = 0.14809692982507403\n",
            "Iteration 52: w = 0.25447112815327827, b = 5.054183090705095, J_wb = 0.1478090139813464\n",
            "Iteration 53: w = 0.2559987331912547, b = 5.039390582667982, J_wb = 0.1475220384537092\n",
            "Iteration 54: w = 0.25752384165536657, b = 5.024622250113431, J_wb = 0.1472360001711458\n",
            "Iteration 55: w = 0.25904645762577916, b = 5.009878053531309, J_wb = 0.14695089607266928\n",
            "Iteration 56: w = 0.2605665851759895, b = 4.995157953476054, J_wb = 0.14666672310728981\n",
            "Iteration 57: w = 0.26208422837283735, b = 4.980461910566573, J_wb = 0.14638347823398185\n",
            "Iteration 58: w = 0.26359939127651594, b = 4.965789885486131, J_wb = 0.1461011584216516\n",
            "Iteration 59: w = 0.2651120779405829, b = 4.951141838982248, J_wb = 0.14581976064910473\n",
            "Iteration 60: w = 0.26662229241197116, b = 4.936517731866597, J_wb = 0.14553928190501397\n",
            "Iteration 61: w = 0.2681300387309997, b = 4.921917525014895, J_wb = 0.14525971918788685\n",
            "Iteration 62: w = 0.2696353209313844, b = 4.907341179366801, J_wb = 0.14498106950603346\n",
            "Iteration 63: w = 0.27113814304024886, b = 4.89278865592581, J_wb = 0.1447033298775347\n",
            "Iteration 64: w = 0.27263850907813497, b = 4.878259915759149, J_wb = 0.14442649733021035\n",
            "Iteration 65: w = 0.2741364230590139, b = 4.863754919997674, J_wb = 0.1441505689015869\n",
            "Iteration 66: w = 0.27563188899029695, b = 4.849273629835763, J_wb = 0.14387554163886623\n",
            "Iteration 67: w = 0.27712491087284574, b = 4.834816006531218, J_wb = 0.14360141259889397\n",
            "Iteration 68: w = 0.2786154927009835, b = 4.8203820114051545, J_wb = 0.14332817884812774\n",
            "Iteration 69: w = 0.28010363846250547, b = 4.8059716058419015, J_wb = 0.1430558374626061\n",
            "Iteration 70: w = 0.2815893521386895, b = 4.791584751288898, J_wb = 0.142784385527917\n",
            "Iteration 71: w = 0.2830726377043071, b = 4.77722140925659, J_wb = 0.14251382013916666\n",
            "Iteration 72: w = 0.28455349912763345, b = 4.762881541318328, J_wb = 0.14224413840094866\n",
            "Iteration 73: w = 0.28603194037045854, b = 4.748565109110262, J_wb = 0.14197533742731258\n",
            "Iteration 74: w = 0.28750796538809753, b = 4.734272074331241, J_wb = 0.14170741434173353\n",
            "Iteration 75: w = 0.2889815781294014, b = 4.72000239874271, J_wb = 0.14144036627708115\n",
            "Iteration 76: w = 0.29045278253676754, b = 4.705756044168607, J_wb = 0.1411741903755889\n",
            "Iteration 77: w = 0.29192158254615014, b = 4.69153297249526, J_wb = 0.1409088837888236\n",
            "Iteration 78: w = 0.29338798208707095, b = 4.677333145671289, J_wb = 0.14064444367765477\n",
            "Iteration 79: w = 0.2948519850826297, b = 4.663156525707501, J_wb = 0.14038086721222448\n",
            "Iteration 80: w = 0.2963135954495144, b = 4.649003074676788, J_wb = 0.14011815157191687\n",
            "Iteration 81: w = 0.29777281709801223, b = 4.634872754714026, J_wb = 0.13985629394532817\n",
            "Iteration 82: w = 0.2992296539320196, b = 4.620765528015976, J_wb = 0.13959529153023634\n",
            "Iteration 83: w = 0.30068410984905286, b = 4.606681356841181, J_wb = 0.13933514153357124\n",
            "Iteration 84: w = 0.30213618874025844, b = 4.592620203509862, J_wb = 0.13907584117138494\n",
            "Iteration 85: w = 0.3035858944904236, b = 4.578582030403825, J_wb = 0.13881738766882143\n",
            "Iteration 86: w = 0.3050332309779868, b = 4.564566799966352, J_wb = 0.1385597782600873\n",
            "Iteration 87: w = 0.3064782020750476, b = 4.550574474702105, J_wb = 0.13830301018842228\n",
            "Iteration 88: w = 0.30792081164737767, b = 4.536605017177026, J_wb = 0.13804708070606922\n",
            "Iteration 89: w = 0.3093610635544307, b = 4.5226583900182336, J_wb = 0.13779198707424514\n",
            "Iteration 90: w = 0.31079896164935295, b = 4.508734555913928, J_wb = 0.1375377265631117\n",
            "Iteration 91: w = 0.3122345097789932, b = 4.494833477613286, J_wb = 0.13728429645174606\n",
            "Iteration 92: w = 0.31366771178391356, b = 4.480955117926364, J_wb = 0.13703169402811183\n",
            "Iteration 93: w = 0.31509857149839937, b = 4.467099439723998, J_wb = 0.13677991658902983\n",
            "Iteration 94: w = 0.31652709275046975, b = 4.453266405937706, J_wb = 0.1365289614401495\n",
            "Iteration 95: w = 0.31795327936188744, b = 4.439455979559586, J_wb = 0.13627882589591964\n",
            "Iteration 96: w = 0.3193771351481693, b = 4.425668123642218, J_wb = 0.13602950727956004\n",
            "Iteration 97: w = 0.32079866391859657, b = 4.411902801298566, J_wb = 0.13578100292303266\n",
            "Iteration 98: w = 0.3222178694762248, b = 4.398159975701878, J_wb = 0.13553331016701317\n",
            "Iteration 99: w = 0.32363475561789445, b = 4.384439610085589, J_wb = 0.13528642636086233\n",
            "Iteration 100: w = 0.3250493261342405, b = 4.370741667743221, J_wb = 0.13504034886259786\n",
            "0.3250493261342405 4.370741667743221 0.13504034886259786\n"
          ]
        }
      ],
      "source": [
        "w, b, J_wb, y_cap = gradient_descent(learning_rate, w, b, x_train, y_train, max_itr)\n",
        "print(w, b, J_wb)"
      ]
    },
    {
      "cell_type": "markdown",
      "metadata": {
        "id": "EyDIC4ggQLEr"
      },
      "source": [
        "#### Plot Best Fit Line"
      ]
    },
    {
      "cell_type": "code",
      "execution_count": null,
      "metadata": {
        "colab": {
          "base_uri": "https://localhost:8080/",
          "height": 490
        },
        "id": "ZeKQopJTIt3k",
        "outputId": "5ff5c758-112a-4ba1-de09-7f5aad61f753"
      },
      "outputs": [
        {
          "data": {
            "text/plain": [
              "Text(0.5, 1.0, 'Best Fit Line')"
            ]
          },
          "execution_count": 18,
          "metadata": {},
          "output_type": "execute_result"
        },
        {
          "data": {
            "image/png": "[encoded data removed]",
            "text/plain": [
              "<Figure size 640x480 with 1 Axes>"
            ]
          },
          "metadata": {},
          "output_type": "display_data"
        }
      ],
      "source": [
        "# Plot the line\n",
        "plt.plot(x_train, y_cap, color = 'green')\n",
        "plt.scatter(x_train, y_train, c='r', marker='x')\n",
        "\n",
        "plt.xlabel('x')\n",
        "plt.ylabel('y')\n",
        "plt.title('Best Fit Line')"
      ]
    },
    {
      "cell_type": "markdown",
      "metadata": {
        "id": "tI--hUMYnzOj"
      },
      "source": [
        "## Linear Regression"
      ]
    },
    {
      "cell_type": "code",
      "execution_count": null,
      "metadata": {
        "id": "cXvZZOqFowc-"
      },
      "outputs": [],
      "source": [
        "x= x_train\n",
        "y= y_train\n",
        "w = (np.mean(x*y) - np.mean(x)*np.mean(y))/(np.mean(x**2) - np.mean(x)**2)\n",
        "b = np.mean(y) - w*np.mean(x)"
      ]
    },
    {
      "cell_type": "code",
      "execution_count": null,
      "metadata": {
        "id": "IqFdvO-Eo_72"
      },
      "outputs": [],
      "source": [
        "y_pred = w*x_test + b"
      ]
    },
    {
      "cell_type": "code",
      "execution_count": null,
      "metadata": {
        "colab": {
          "base_uri": "https://localhost:8080/",
          "height": 490
        },
        "id": "M-4Xm4rWpM98",
        "outputId": "a3b75fad-cb62-4109-e261-8fbbd5f0201b"
      },
      "outputs": [
        {
          "data": {
            "text/plain": [
              "Text(0.5, 1.0, 'Best Fit Line')"
            ]
          },
          "execution_count": 21,
          "metadata": {},
          "output_type": "execute_result"
        },
        {
          "data": {
            "image/png": "[encoded data removed]",
            "text/plain": [
              "<Figure size 640x480 with 1 Axes>"
            ]
          },
          "metadata": {},
          "output_type": "display_data"
        }
      ],
      "source": [
        "# Plot the line\n",
        "plt.plot(x_test, y_pred, color = 'green')\n",
        "plt.scatter(x_train, y_train, c='r', marker='x')\n",
        "\n",
        "plt.xlabel('x')\n",
        "plt.ylabel('y')\n",
        "plt.title('Best Fit Line')"
      ]
    }
  ],
  "metadata": {
    "colab": {
      "include_colab_link": true,
      "provenance": []
    },
    "kernelspec": {
      "display_name": "Python 3",
      "name": "python3"
    },
    "language_info": {
      "name": "python"
    }
  },
  "nbformat": 4,
  "nbformat_minor": 0
}
